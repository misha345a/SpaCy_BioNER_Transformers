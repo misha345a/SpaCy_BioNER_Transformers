{
  "nbformat": 4,
  "nbformat_minor": 0,
  "metadata": {
    "colab": {
      "provenance": [],
      "collapsed_sections": [],
      "authorship_tag": "ABX9TyNm7DOLYsCuBvaSpzershjY",
      "include_colab_link": true
    },
    "kernelspec": {
      "name": "python3",
      "display_name": "Python 3"
    },
    "language_info": {
      "name": "python"
    },
    "widgets": {
      "application/vnd.jupyter.widget-state+json": {
        "74cf118985dd4e6aba06243e499423d6": {
          "model_module": "@jupyter-widgets/controls",
          "model_name": "HBoxModel",
          "model_module_version": "1.5.0",
          "state": {
            "_dom_classes": [],
            "_model_module": "@jupyter-widgets/controls",
            "_model_module_version": "1.5.0",
            "_model_name": "HBoxModel",
            "_view_count": null,
            "_view_module": "@jupyter-widgets/controls",
            "_view_module_version": "1.5.0",
            "_view_name": "HBoxView",
            "box_style": "",
            "children": [
              "IPY_MODEL_8ff0f73562834321b1dbc43289c2e292",
              "IPY_MODEL_7a8cc123f99942f5883490969ef4d4ec",
              "IPY_MODEL_ede2aa1685664251b18fe6238c435a23"
            ],
            "layout": "IPY_MODEL_ae016416aa534ba585291c138247c693"
          }
        },
        "8ff0f73562834321b1dbc43289c2e292": {
          "model_module": "@jupyter-widgets/controls",
          "model_name": "HTMLModel",
          "model_module_version": "1.5.0",
          "state": {
            "_dom_classes": [],
            "_model_module": "@jupyter-widgets/controls",
            "_model_module_version": "1.5.0",
            "_model_name": "HTMLModel",
            "_view_count": null,
            "_view_module": "@jupyter-widgets/controls",
            "_view_module_version": "1.5.0",
            "_view_name": "HTMLView",
            "description": "",
            "description_tooltip": null,
            "layout": "IPY_MODEL_b76fb812df9f484bba0486f0145e895b",
            "placeholder": "​",
            "style": "IPY_MODEL_5a5ee44931c74369ab6b84b6d548a26d",
            "value": "100%"
          }
        },
        "7a8cc123f99942f5883490969ef4d4ec": {
          "model_module": "@jupyter-widgets/controls",
          "model_name": "FloatProgressModel",
          "model_module_version": "1.5.0",
          "state": {
            "_dom_classes": [],
            "_model_module": "@jupyter-widgets/controls",
            "_model_module_version": "1.5.0",
            "_model_name": "FloatProgressModel",
            "_view_count": null,
            "_view_module": "@jupyter-widgets/controls",
            "_view_module_version": "1.5.0",
            "_view_name": "ProgressView",
            "bar_style": "success",
            "description": "",
            "description_tooltip": null,
            "layout": "IPY_MODEL_a459713ac7154bc29865786e1c5da5e6",
            "max": 2999,
            "min": 0,
            "orientation": "horizontal",
            "style": "IPY_MODEL_a9b75c14558146048d90e2f3d5dc583c",
            "value": 2999
          }
        },
        "ede2aa1685664251b18fe6238c435a23": {
          "model_module": "@jupyter-widgets/controls",
          "model_name": "HTMLModel",
          "model_module_version": "1.5.0",
          "state": {
            "_dom_classes": [],
            "_model_module": "@jupyter-widgets/controls",
            "_model_module_version": "1.5.0",
            "_model_name": "HTMLModel",
            "_view_count": null,
            "_view_module": "@jupyter-widgets/controls",
            "_view_module_version": "1.5.0",
            "_view_name": "HTMLView",
            "description": "",
            "description_tooltip": null,
            "layout": "IPY_MODEL_909f74a215074500960b698e7c4bc76c",
            "placeholder": "​",
            "style": "IPY_MODEL_92a145d0fff14b2aac2bbeac2f3a7c4e",
            "value": " 2999/2999 [00:02&lt;00:00, 1367.29it/s]"
          }
        },
        "ae016416aa534ba585291c138247c693": {
          "model_module": "@jupyter-widgets/base",
          "model_name": "LayoutModel",
          "model_module_version": "1.2.0",
          "state": {
            "_model_module": "@jupyter-widgets/base",
            "_model_module_version": "1.2.0",
            "_model_name": "LayoutModel",
            "_view_count": null,
            "_view_module": "@jupyter-widgets/base",
            "_view_module_version": "1.2.0",
            "_view_name": "LayoutView",
            "align_content": null,
            "align_items": null,
            "align_self": null,
            "border": null,
            "bottom": null,
            "display": null,
            "flex": null,
            "flex_flow": null,
            "grid_area": null,
            "grid_auto_columns": null,
            "grid_auto_flow": null,
            "grid_auto_rows": null,
            "grid_column": null,
            "grid_gap": null,
            "grid_row": null,
            "grid_template_areas": null,
            "grid_template_columns": null,
            "grid_template_rows": null,
            "height": null,
            "justify_content": null,
            "justify_items": null,
            "left": null,
            "margin": null,
            "max_height": null,
            "max_width": null,
            "min_height": null,
            "min_width": null,
            "object_fit": null,
            "object_position": null,
            "order": null,
            "overflow": null,
            "overflow_x": null,
            "overflow_y": null,
            "padding": null,
            "right": null,
            "top": null,
            "visibility": null,
            "width": null
          }
        },
        "b76fb812df9f484bba0486f0145e895b": {
          "model_module": "@jupyter-widgets/base",
          "model_name": "LayoutModel",
          "model_module_version": "1.2.0",
          "state": {
            "_model_module": "@jupyter-widgets/base",
            "_model_module_version": "1.2.0",
            "_model_name": "LayoutModel",
            "_view_count": null,
            "_view_module": "@jupyter-widgets/base",
            "_view_module_version": "1.2.0",
            "_view_name": "LayoutView",
            "align_content": null,
            "align_items": null,
            "align_self": null,
            "border": null,
            "bottom": null,
            "display": null,
            "flex": null,
            "flex_flow": null,
            "grid_area": null,
            "grid_auto_columns": null,
            "grid_auto_flow": null,
            "grid_auto_rows": null,
            "grid_column": null,
            "grid_gap": null,
            "grid_row": null,
            "grid_template_areas": null,
            "grid_template_columns": null,
            "grid_template_rows": null,
            "height": null,
            "justify_content": null,
            "justify_items": null,
            "left": null,
            "margin": null,
            "max_height": null,
            "max_width": null,
            "min_height": null,
            "min_width": null,
            "object_fit": null,
            "object_position": null,
            "order": null,
            "overflow": null,
            "overflow_x": null,
            "overflow_y": null,
            "padding": null,
            "right": null,
            "top": null,
            "visibility": null,
            "width": null
          }
        },
        "5a5ee44931c74369ab6b84b6d548a26d": {
          "model_module": "@jupyter-widgets/controls",
          "model_name": "DescriptionStyleModel",
          "model_module_version": "1.5.0",
          "state": {
            "_model_module": "@jupyter-widgets/controls",
            "_model_module_version": "1.5.0",
            "_model_name": "DescriptionStyleModel",
            "_view_count": null,
            "_view_module": "@jupyter-widgets/base",
            "_view_module_version": "1.2.0",
            "_view_name": "StyleView",
            "description_width": ""
          }
        },
        "a459713ac7154bc29865786e1c5da5e6": {
          "model_module": "@jupyter-widgets/base",
          "model_name": "LayoutModel",
          "model_module_version": "1.2.0",
          "state": {
            "_model_module": "@jupyter-widgets/base",
            "_model_module_version": "1.2.0",
            "_model_name": "LayoutModel",
            "_view_count": null,
            "_view_module": "@jupyter-widgets/base",
            "_view_module_version": "1.2.0",
            "_view_name": "LayoutView",
            "align_content": null,
            "align_items": null,
            "align_self": null,
            "border": null,
            "bottom": null,
            "display": null,
            "flex": null,
            "flex_flow": null,
            "grid_area": null,
            "grid_auto_columns": null,
            "grid_auto_flow": null,
            "grid_auto_rows": null,
            "grid_column": null,
            "grid_gap": null,
            "grid_row": null,
            "grid_template_areas": null,
            "grid_template_columns": null,
            "grid_template_rows": null,
            "height": null,
            "justify_content": null,
            "justify_items": null,
            "left": null,
            "margin": null,
            "max_height": null,
            "max_width": null,
            "min_height": null,
            "min_width": null,
            "object_fit": null,
            "object_position": null,
            "order": null,
            "overflow": null,
            "overflow_x": null,
            "overflow_y": null,
            "padding": null,
            "right": null,
            "top": null,
            "visibility": null,
            "width": null
          }
        },
        "a9b75c14558146048d90e2f3d5dc583c": {
          "model_module": "@jupyter-widgets/controls",
          "model_name": "ProgressStyleModel",
          "model_module_version": "1.5.0",
          "state": {
            "_model_module": "@jupyter-widgets/controls",
            "_model_module_version": "1.5.0",
            "_model_name": "ProgressStyleModel",
            "_view_count": null,
            "_view_module": "@jupyter-widgets/base",
            "_view_module_version": "1.2.0",
            "_view_name": "StyleView",
            "bar_color": null,
            "description_width": ""
          }
        },
        "909f74a215074500960b698e7c4bc76c": {
          "model_module": "@jupyter-widgets/base",
          "model_name": "LayoutModel",
          "model_module_version": "1.2.0",
          "state": {
            "_model_module": "@jupyter-widgets/base",
            "_model_module_version": "1.2.0",
            "_model_name": "LayoutModel",
            "_view_count": null,
            "_view_module": "@jupyter-widgets/base",
            "_view_module_version": "1.2.0",
            "_view_name": "LayoutView",
            "align_content": null,
            "align_items": null,
            "align_self": null,
            "border": null,
            "bottom": null,
            "display": null,
            "flex": null,
            "flex_flow": null,
            "grid_area": null,
            "grid_auto_columns": null,
            "grid_auto_flow": null,
            "grid_auto_rows": null,
            "grid_column": null,
            "grid_gap": null,
            "grid_row": null,
            "grid_template_areas": null,
            "grid_template_columns": null,
            "grid_template_rows": null,
            "height": null,
            "justify_content": null,
            "justify_items": null,
            "left": null,
            "margin": null,
            "max_height": null,
            "max_width": null,
            "min_height": null,
            "min_width": null,
            "object_fit": null,
            "object_position": null,
            "order": null,
            "overflow": null,
            "overflow_x": null,
            "overflow_y": null,
            "padding": null,
            "right": null,
            "top": null,
            "visibility": null,
            "width": null
          }
        },
        "92a145d0fff14b2aac2bbeac2f3a7c4e": {
          "model_module": "@jupyter-widgets/controls",
          "model_name": "DescriptionStyleModel",
          "model_module_version": "1.5.0",
          "state": {
            "_model_module": "@jupyter-widgets/controls",
            "_model_module_version": "1.5.0",
            "_model_name": "DescriptionStyleModel",
            "_view_count": null,
            "_view_module": "@jupyter-widgets/base",
            "_view_module_version": "1.2.0",
            "_view_name": "StyleView",
            "description_width": ""
          }
        }
      }
    },
    "accelerator": "GPU"
  },
  "cells": [
    {
      "cell_type": "markdown",
      "metadata": {
        "id": "view-in-github",
        "colab_type": "text"
      },
      "source": [
        "<a href=\"https://colab.research.google.com/github/misha345a/SpaCy_BioNER_Transformers/blob/main/SpaCy_BioNER_Transformers.ipynb\" target=\"_parent\"><img src=\"https://colab.research.google.com/assets/colab-badge.svg\" alt=\"Open In Colab\"/></a>"
      ]
    },
    {
      "cell_type": "code",
      "source": [
        "%%capture\n",
        "!pip install transformers\n",
        "!pip install --upgrade spacy\n",
        "!pip install spacy-transformers"
      ],
      "metadata": {
        "id": "H5iYAnU10E46"
      },
      "execution_count": null,
      "outputs": []
    },
    {
      "cell_type": "code",
      "source": [
        "# check that GPU is enabled\n",
        "gpu_info = !nvidia-smi\n",
        "gpu_info = '\\n'.join(gpu_info)\n",
        "if gpu_info.find('failed') >= 0:\n",
        "  print('Not connected to a GPU')\n",
        "else:\n",
        "  print(gpu_info)"
      ],
      "metadata": {
        "colab": {
          "base_uri": "https://localhost:8080/"
        },
        "id": "KnXjFiL-vFDw",
        "outputId": "9e5d285c-657f-43f0-b937-12abaa310d99"
      },
      "execution_count": null,
      "outputs": [
        {
          "output_type": "stream",
          "name": "stdout",
          "text": [
            "Sun May  8 22:14:23 2022       \n",
            "+-----------------------------------------------------------------------------+\n",
            "| NVIDIA-SMI 460.32.03    Driver Version: 460.32.03    CUDA Version: 11.2     |\n",
            "|-------------------------------+----------------------+----------------------+\n",
            "| GPU  Name        Persistence-M| Bus-Id        Disp.A | Volatile Uncorr. ECC |\n",
            "| Fan  Temp  Perf  Pwr:Usage/Cap|         Memory-Usage | GPU-Util  Compute M. |\n",
            "|                               |                      |               MIG M. |\n",
            "|===============================+======================+======================|\n",
            "|   0  Tesla P100-PCIE...  Off  | 00000000:00:04.0 Off |                    0 |\n",
            "| N/A   34C    P0    26W / 250W |      0MiB / 16280MiB |      0%      Default |\n",
            "|                               |                      |                  N/A |\n",
            "+-------------------------------+----------------------+----------------------+\n",
            "                                                                               \n",
            "+-----------------------------------------------------------------------------+\n",
            "| Processes:                                                                  |\n",
            "|  GPU   GI   CI        PID   Type   Process name                  GPU Memory |\n",
            "|        ID   ID                                                   Usage      |\n",
            "|=============================================================================|\n",
            "|  No running processes found                                                 |\n",
            "+-----------------------------------------------------------------------------+\n"
          ]
        }
      ]
    },
    {
      "cell_type": "code",
      "execution_count": null,
      "metadata": {
        "id": "OmA2xm0Ry2s2"
      },
      "outputs": [],
      "source": [
        "# library imports\n",
        "import pandas as pd\n",
        "import matplotlib.pyplot as plt\n",
        "\n",
        "import spacy\n",
        "from spacy import displacy\n",
        "from spacy.tokens import DocBin\n",
        "from spacy.util import filter_spans\n",
        "from datetime import datetime\n",
        "import json\n",
        "import re\n",
        "\n",
        "from tqdm import tqdm\n",
        "from tqdm.notebook import tqdm_notebook"
      ]
    },
    {
      "cell_type": "code",
      "source": [
        "# initiate tqdm for pandas.apply() functions\n",
        "tqdm_notebook.pandas()\n",
        "\n",
        "# suppress all warnings\n",
        "# warnings.simplefilter('ignore')\n",
        "\n",
        "# expand notebook display options for dataframes\n",
        "pd.set_option('display.max_colwidth', 200)\n",
        "pd.options.display.max_columns = 999\n",
        "pd.options.display.max_rows = 300"
      ],
      "metadata": {
        "id": "keuFcw8fy-KB"
      },
      "execution_count": null,
      "outputs": []
    },
    {
      "cell_type": "markdown",
      "source": [
        "## Data Preprocessing"
      ],
      "metadata": {
        "id": "6EjTIidL0uD-"
      }
    },
    {
      "cell_type": "code",
      "source": [
        "# load the dataset\n",
        "df = pd.read_csv('/PATH_TO_DATA.csv', lineterminator='\\n', usecols=range(6))"
      ],
      "metadata": {
        "id": "ygFUaWMey-TL"
      },
      "execution_count": null,
      "outputs": []
    },
    {
      "cell_type": "code",
      "source": [
        "# there are rows with missing keywords; we need to remove them\n",
        "df.info()"
      ],
      "metadata": {
        "colab": {
          "base_uri": "https://localhost:8080/"
        },
        "id": "GUIDWRDey-Vp",
        "outputId": "dd724f4b-5e14-4389-ffc8-bcb3dcba8e81"
      },
      "execution_count": null,
      "outputs": [
        {
          "output_type": "stream",
          "name": "stdout",
          "text": [
            "<class 'pandas.core.frame.DataFrame'>\n",
            "RangeIndex: 3703 entries, 0 to 3702\n",
            "Data columns (total 6 columns):\n",
            " #   Column             Non-Null Count  Dtype \n",
            "---  ------             --------------  ----- \n",
            " 0   Unnamed: 0         3703 non-null   int64 \n",
            " 1   description        3703 non-null   object\n",
            " 2   medical_specialty  3703 non-null   object\n",
            " 3   sample_name        3703 non-null   object\n",
            " 4   transcription      3679 non-null   object\n",
            " 5   keywords           3023 non-null   object\n",
            "dtypes: int64(1), object(5)\n",
            "memory usage: 173.7+ KB\n"
          ]
        }
      ]
    },
    {
      "cell_type": "code",
      "source": [
        "# drop irrelevant columns and rows w/ missing data\n",
        "df = df[['transcription', 'keywords']].copy(deep=True)\n",
        "df.dropna(how='any', inplace=True)"
      ],
      "metadata": {
        "id": "udTRwKCJy-XC"
      },
      "execution_count": null,
      "outputs": []
    },
    {
      "cell_type": "code",
      "source": [
        "# 2999 rows remaining\n",
        "len(df)"
      ],
      "metadata": {
        "colab": {
          "base_uri": "https://localhost:8080/"
        },
        "id": "SCLDFmJNy-YF",
        "outputId": "66a38e87-c4a8-4ec2-d1ac-08af05e8925a"
      },
      "execution_count": null,
      "outputs": [
        {
          "output_type": "execute_result",
          "data": {
            "text/plain": [
              "2999"
            ]
          },
          "metadata": {},
          "execution_count": 9
        }
      ]
    },
    {
      "cell_type": "markdown",
      "source": [
        "## Text Cleaning"
      ],
      "metadata": {
        "id": "-HpN6s7o2lt_"
      }
    },
    {
      "cell_type": "code",
      "source": [
        "def text_cleaning(text):\n",
        "  text = re.sub(r\"NOTE,:.+\", \"\", text, flags=re.IGNORECASE) # remove transcription disclaimers\n",
        "  text = re.sub(r\"[A-Z]{4,}:\\s?,\", \"\", text)  # remove subheadings (PROCEDURE, IMPRESSION, etc.)\n",
        "  text = re.sub(r\"\\d\\.\", \"\", text) # remove number lists (1., 2.)\n",
        "  text = re.sub(r\"([:.])\\s{0,},\", r\"\\1 \", text) # remove instances of \".,\" or \": ,\"\n",
        "  text = re.sub(r\",$\", \"\", text) # remove trailing commas\n",
        "  text = re.sub(r\"\\s{2,}\", \" \", text) # shorten lengthy spacing \n",
        "  text = text.lower().strip()\n",
        "  return text"
      ],
      "metadata": {
        "id": "ESSmx3c144m1"
      },
      "execution_count": null,
      "outputs": []
    },
    {
      "cell_type": "code",
      "source": [
        "df['keywords'] = df['keywords'].apply(text_cleaning)\n",
        "df['transcription'] = df['transcription'].progress_apply(text_cleaning)"
      ],
      "metadata": {
        "colab": {
          "base_uri": "https://localhost:8080/",
          "height": 49,
          "referenced_widgets": [
            "74cf118985dd4e6aba06243e499423d6",
            "8ff0f73562834321b1dbc43289c2e292",
            "7a8cc123f99942f5883490969ef4d4ec",
            "ede2aa1685664251b18fe6238c435a23",
            "ae016416aa534ba585291c138247c693",
            "b76fb812df9f484bba0486f0145e895b",
            "5a5ee44931c74369ab6b84b6d548a26d",
            "a459713ac7154bc29865786e1c5da5e6",
            "a9b75c14558146048d90e2f3d5dc583c",
            "909f74a215074500960b698e7c4bc76c",
            "92a145d0fff14b2aac2bbeac2f3a7c4e"
          ]
        },
        "id": "BkkymorE5Oqg",
        "outputId": "e05cde53-6159-4cb7-afb8-34a667d43f99"
      },
      "execution_count": null,
      "outputs": [
        {
          "output_type": "display_data",
          "data": {
            "text/plain": [
              "  0%|          | 0/2999 [00:00<?, ?it/s]"
            ],
            "application/vnd.jupyter.widget-view+json": {
              "version_major": 2,
              "version_minor": 0,
              "model_id": "74cf118985dd4e6aba06243e499423d6"
            }
          },
          "metadata": {}
        }
      ]
    },
    {
      "cell_type": "code",
      "source": [
        "df.head()"
      ],
      "metadata": {
        "colab": {
          "base_uri": "https://localhost:8080/",
          "height": 458
        },
        "id": "XNK1m7dr44pi",
        "outputId": "ac0a99b5-7995-413f-a8bc-21e38a43890f"
      },
      "execution_count": null,
      "outputs": [
        {
          "output_type": "execute_result",
          "data": {
            "text/plain": [
              "                                                                                                                                                                                             transcription  \\\n",
              "0  this 23-year-old white female presents with complaint of allergies. she used to have allergies when she lived in seattle but she thinks they are worse here. in the past, she has tried claritin, an...   \n",
              "1  past medical history: he has difficulty climbing stairs, difficulty with airline seats, tying shoes, used to public seating, and lifting objects off the floor. he exercises three times a week at h...   \n",
              "2  i have seen abc today. he is a very pleasant gentleman who is 42 years old, 344 pounds. he is 5'9\". he has a bmi of 5 he has been overweight for ten years since the age of 33, at his highest he wa...   \n",
              "3  2-d m-mode: , left atrial enlargement with left atrial diameter of 7 cm. normal size right and left ventricle. normal lv systolic function with left ventricular ejection fraction of 51%. normal lv...   \n",
              "4  the left ventricular cavity size and wall thickness appear normal. the wall motion and left ventricular systolic function appears hyperdynamic with estimated ejection fraction of 70% to 75%. there...   \n",
              "\n",
              "                                                                                                                                                                                                  keywords  \n",
              "0                                                                       allergy / immunology, allergic rhinitis, allergies, asthma, nasal sprays, rhinitis, nasal, erythematous, allegra, sprays, allergic  \n",
              "1  bariatrics, laparoscopic gastric bypass, weight loss programs, gastric bypass, atkin's diet, weight watcher's, body weight, laparoscopic gastric, weight loss, pounds, months, weight, laparoscopic,...  \n",
              "2  bariatrics, laparoscopic gastric bypass, heart attacks, body weight, pulmonary embolism, potential complications, sleep study, weight loss, gastric bypass, anastomosis, loss, sleep, laparoscopic, ...  \n",
              "3  cardiovascular / pulmonary, 2-d m-mode, doppler, aortic valve, atrial enlargement, diastolic function, ejection fraction, mitral, mitral valve, pericardial effusion, pulmonary valve, regurgitation...  \n",
              "4  cardiovascular / pulmonary, 2-d, doppler, echocardiogram, annular, aortic root, aortic valve, atrial, atrium, calcification, cavity, ejection fraction, mitral, obliteration, outflow, regurgitation...  "
            ],
            "text/html": [
              "\n",
              "  <div id=\"df-995adf6d-4df0-4bb3-a9a6-cc6f8fe14be3\">\n",
              "    <div class=\"colab-df-container\">\n",
              "      <div>\n",
              "<style scoped>\n",
              "    .dataframe tbody tr th:only-of-type {\n",
              "        vertical-align: middle;\n",
              "    }\n",
              "\n",
              "    .dataframe tbody tr th {\n",
              "        vertical-align: top;\n",
              "    }\n",
              "\n",
              "    .dataframe thead th {\n",
              "        text-align: right;\n",
              "    }\n",
              "</style>\n",
              "<table border=\"1\" class=\"dataframe\">\n",
              "  <thead>\n",
              "    <tr style=\"text-align: right;\">\n",
              "      <th></th>\n",
              "      <th>transcription</th>\n",
              "      <th>keywords</th>\n",
              "    </tr>\n",
              "  </thead>\n",
              "  <tbody>\n",
              "    <tr>\n",
              "      <th>0</th>\n",
              "      <td>this 23-year-old white female presents with complaint of allergies. she used to have allergies when she lived in seattle but she thinks they are worse here. in the past, she has tried claritin, an...</td>\n",
              "      <td>allergy / immunology, allergic rhinitis, allergies, asthma, nasal sprays, rhinitis, nasal, erythematous, allegra, sprays, allergic</td>\n",
              "    </tr>\n",
              "    <tr>\n",
              "      <th>1</th>\n",
              "      <td>past medical history: he has difficulty climbing stairs, difficulty with airline seats, tying shoes, used to public seating, and lifting objects off the floor. he exercises three times a week at h...</td>\n",
              "      <td>bariatrics, laparoscopic gastric bypass, weight loss programs, gastric bypass, atkin's diet, weight watcher's, body weight, laparoscopic gastric, weight loss, pounds, months, weight, laparoscopic,...</td>\n",
              "    </tr>\n",
              "    <tr>\n",
              "      <th>2</th>\n",
              "      <td>i have seen abc today. he is a very pleasant gentleman who is 42 years old, 344 pounds. he is 5'9\". he has a bmi of 5 he has been overweight for ten years since the age of 33, at his highest he wa...</td>\n",
              "      <td>bariatrics, laparoscopic gastric bypass, heart attacks, body weight, pulmonary embolism, potential complications, sleep study, weight loss, gastric bypass, anastomosis, loss, sleep, laparoscopic, ...</td>\n",
              "    </tr>\n",
              "    <tr>\n",
              "      <th>3</th>\n",
              "      <td>2-d m-mode: , left atrial enlargement with left atrial diameter of 7 cm. normal size right and left ventricle. normal lv systolic function with left ventricular ejection fraction of 51%. normal lv...</td>\n",
              "      <td>cardiovascular / pulmonary, 2-d m-mode, doppler, aortic valve, atrial enlargement, diastolic function, ejection fraction, mitral, mitral valve, pericardial effusion, pulmonary valve, regurgitation...</td>\n",
              "    </tr>\n",
              "    <tr>\n",
              "      <th>4</th>\n",
              "      <td>the left ventricular cavity size and wall thickness appear normal. the wall motion and left ventricular systolic function appears hyperdynamic with estimated ejection fraction of 70% to 75%. there...</td>\n",
              "      <td>cardiovascular / pulmonary, 2-d, doppler, echocardiogram, annular, aortic root, aortic valve, atrial, atrium, calcification, cavity, ejection fraction, mitral, obliteration, outflow, regurgitation...</td>\n",
              "    </tr>\n",
              "  </tbody>\n",
              "</table>\n",
              "</div>\n",
              "      <button class=\"colab-df-convert\" onclick=\"convertToInteractive('df-995adf6d-4df0-4bb3-a9a6-cc6f8fe14be3')\"\n",
              "              title=\"Convert this dataframe to an interactive table.\"\n",
              "              style=\"display:none;\">\n",
              "        \n",
              "  <svg xmlns=\"http://www.w3.org/2000/svg\" height=\"24px\"viewBox=\"0 0 24 24\"\n",
              "       width=\"24px\">\n",
              "    <path d=\"M0 0h24v24H0V0z\" fill=\"none\"/>\n",
              "    <path d=\"M18.56 5.44l.94 2.06.94-2.06 2.06-.94-2.06-.94-.94-2.06-.94 2.06-2.06.94zm-11 1L8.5 8.5l.94-2.06 2.06-.94-2.06-.94L8.5 2.5l-.94 2.06-2.06.94zm10 10l.94 2.06.94-2.06 2.06-.94-2.06-.94-.94-2.06-.94 2.06-2.06.94z\"/><path d=\"M17.41 7.96l-1.37-1.37c-.4-.4-.92-.59-1.43-.59-.52 0-1.04.2-1.43.59L10.3 9.45l-7.72 7.72c-.78.78-.78 2.05 0 2.83L4 21.41c.39.39.9.59 1.41.59.51 0 1.02-.2 1.41-.59l7.78-7.78 2.81-2.81c.8-.78.8-2.07 0-2.86zM5.41 20L4 18.59l7.72-7.72 1.47 1.35L5.41 20z\"/>\n",
              "  </svg>\n",
              "      </button>\n",
              "      \n",
              "  <style>\n",
              "    .colab-df-container {\n",
              "      display:flex;\n",
              "      flex-wrap:wrap;\n",
              "      gap: 12px;\n",
              "    }\n",
              "\n",
              "    .colab-df-convert {\n",
              "      background-color: #E8F0FE;\n",
              "      border: none;\n",
              "      border-radius: 50%;\n",
              "      cursor: pointer;\n",
              "      display: none;\n",
              "      fill: #1967D2;\n",
              "      height: 32px;\n",
              "      padding: 0 0 0 0;\n",
              "      width: 32px;\n",
              "    }\n",
              "\n",
              "    .colab-df-convert:hover {\n",
              "      background-color: #E2EBFA;\n",
              "      box-shadow: 0px 1px 2px rgba(60, 64, 67, 0.3), 0px 1px 3px 1px rgba(60, 64, 67, 0.15);\n",
              "      fill: #174EA6;\n",
              "    }\n",
              "\n",
              "    [theme=dark] .colab-df-convert {\n",
              "      background-color: #3B4455;\n",
              "      fill: #D2E3FC;\n",
              "    }\n",
              "\n",
              "    [theme=dark] .colab-df-convert:hover {\n",
              "      background-color: #434B5C;\n",
              "      box-shadow: 0px 1px 3px 1px rgba(0, 0, 0, 0.15);\n",
              "      filter: drop-shadow(0px 1px 2px rgba(0, 0, 0, 0.3));\n",
              "      fill: #FFFFFF;\n",
              "    }\n",
              "  </style>\n",
              "\n",
              "      <script>\n",
              "        const buttonEl =\n",
              "          document.querySelector('#df-995adf6d-4df0-4bb3-a9a6-cc6f8fe14be3 button.colab-df-convert');\n",
              "        buttonEl.style.display =\n",
              "          google.colab.kernel.accessAllowed ? 'block' : 'none';\n",
              "\n",
              "        async function convertToInteractive(key) {\n",
              "          const element = document.querySelector('#df-995adf6d-4df0-4bb3-a9a6-cc6f8fe14be3');\n",
              "          const dataTable =\n",
              "            await google.colab.kernel.invokeFunction('convertToInteractive',\n",
              "                                                     [key], {});\n",
              "          if (!dataTable) return;\n",
              "\n",
              "          const docLinkHtml = 'Like what you see? Visit the ' +\n",
              "            '<a target=\"_blank\" href=https://colab.research.google.com/notebooks/data_table.ipynb>data table notebook</a>'\n",
              "            + ' to learn more about interactive tables.';\n",
              "          element.innerHTML = '';\n",
              "          dataTable['output_type'] = 'display_data';\n",
              "          await google.colab.output.renderOutput(dataTable, element);\n",
              "          const docLink = document.createElement('div');\n",
              "          docLink.innerHTML = docLinkHtml;\n",
              "          element.appendChild(docLink);\n",
              "        }\n",
              "      </script>\n",
              "    </div>\n",
              "  </div>\n",
              "  "
            ]
          },
          "metadata": {},
          "execution_count": 13
        }
      ]
    },
    {
      "cell_type": "markdown",
      "source": [
        "## Text Cleaning Example"
      ],
      "metadata": {
        "id": "ESbE7h447I2M"
      }
    },
    {
      "cell_type": "code",
      "source": [
        "example = \"DESCRIPTION:,1.  Normal cardiac chambers size.,2.  Normal left ventricular size.,\"\n",
        "print(f\"ORIGINAL: {example}\")\n",
        "print(f\" CLEANED: {text_cleaning(example)}\")"
      ],
      "metadata": {
        "colab": {
          "base_uri": "https://localhost:8080/"
        },
        "id": "T-cl0RT17II0",
        "outputId": "ff89cacb-404e-4aea-8ecf-e5bcde9844ce"
      },
      "execution_count": null,
      "outputs": [
        {
          "output_type": "stream",
          "name": "stdout",
          "text": [
            "ORIGINAL: DESCRIPTION:,1.  Normal cardiac chambers size.,2.  Normal left ventricular size.,\n",
            " CLEANED: normal cardiac chambers size. normal left ventricular size.\n"
          ]
        }
      ]
    },
    {
      "cell_type": "markdown",
      "source": [
        "## Keyword Analysis"
      ],
      "metadata": {
        "id": "kpI1eYlE5Pa0"
      }
    },
    {
      "cell_type": "code",
      "source": [
        "# remove the first term in each keyword set; \n",
        "# this term only defines the specialty and is not an entity\n",
        "df['keywords'] = df['keywords'].apply(lambda x: re.sub(r\"[a-z /]*, \", '', x , 1))"
      ],
      "metadata": {
        "id": "Q54eSaEuy-av"
      },
      "execution_count": null,
      "outputs": []
    },
    {
      "cell_type": "code",
      "source": [
        "# count frequency of each keyword\n",
        "keyword_counts = pd.Series(df['keywords'].str.cat().replace(', ', ',').split(',')).value_counts()\n",
        "keyword_counts = keyword_counts.sort_values(ascending=True)"
      ],
      "metadata": {
        "id": "2tlYeaBsy-gu"
      },
      "execution_count": null,
      "outputs": []
    },
    {
      "cell_type": "code",
      "source": [
        "# number of unique keywords or \"entities\"\n",
        "len(keyword_counts)"
      ],
      "metadata": {
        "colab": {
          "base_uri": "https://localhost:8080/"
        },
        "id": "n9mFdgh_PhGM",
        "outputId": "6faec2f3-a57e-4fa4-cba8-3b3bf39f6c9a"
      },
      "execution_count": null,
      "outputs": [
        {
          "output_type": "execute_result",
          "data": {
            "text/plain": [
              "10339"
            ]
          },
          "metadata": {},
          "execution_count": 70
        }
      ]
    },
    {
      "cell_type": "code",
      "source": [
        "# plot the counts of the top 25 keywords\n",
        "keyword_counts[-25:].plot(kind='barh')\n",
        "plt.title(\"Top 25 Keywords (Counts)\")\n",
        "plt.xlabel(\"Count\")\n",
        "plt.show()"
      ],
      "metadata": {
        "colab": {
          "base_uri": "https://localhost:8080/",
          "height": 295
        },
        "id": "Jqp2RWBTy-ix",
        "outputId": "d4e51efa-010c-400f-db78-0f315f5d2512"
      },
      "execution_count": null,
      "outputs": [
        {
          "output_type": "display_data",
          "data": {
            "text/plain": [
              "<Figure size 432x288 with 1 Axes>"
            ],
            "image/png": "[encoded data removed]"
          },
          "metadata": {
            "needs_background": "light"
          }
        }
      ]
    },
    {
      "cell_type": "code",
      "source": [
        "# number of keywords with less than 3 appearances in the training data\n",
        "len(keyword_counts[keyword_counts < 3])"
      ],
      "metadata": {
        "colab": {
          "base_uri": "https://localhost:8080/"
        },
        "id": "CREpnh6oU21P",
        "outputId": "20055547-2106-4408-f597-15652d64c48d"
      },
      "execution_count": null,
      "outputs": [
        {
          "output_type": "execute_result",
          "data": {
            "text/plain": [
              "7237"
            ]
          },
          "metadata": {},
          "execution_count": 101
        }
      ]
    },
    {
      "cell_type": "markdown",
      "source": [
        "This data has a number of imperfections. Quality assurance is meaningful here to improve the predictabilty of the model.\n",
        "\n",
        "TODO\n",
        "* Define and execute a plan to handle abbreviations"
      ],
      "metadata": {
        "id": "8PaGXsFt86CI"
      }
    },
    {
      "cell_type": "markdown",
      "source": [
        "## Annotation"
      ],
      "metadata": {
        "id": "cVS7afXY8iEG"
      }
    },
    {
      "cell_type": "code",
      "source": [
        "# this list will contain all annotated examples\n",
        "annotated_list = [] \n",
        "\n",
        "def structure_data(text, kw_list):\n",
        "  \"\"\"\n",
        "  Automatically extract the spans of each keyword in text.\n",
        "  Shape the data into JSON annotation format.\n",
        "  \"\"\"\n",
        "  results = []\n",
        "  entities = []\n",
        "\n",
        "  kw_list = kw_list.split(', ')\n",
        "  \n",
        "  # search for instances of keywords within the text (ignoring letter case)\n",
        "  for kw in kw_list:\n",
        "    search = re.finditer(kw, text, flags=re.IGNORECASE)\n",
        "      \n",
        "    # store the start/end character positions\n",
        "    all_instances = [[m.start(), m.end()] for m in search] \n",
        "      \n",
        "    # if the callable_iterator found matches, create an 'entities' list\n",
        "    if len(all_instances)>0:\n",
        "      for i in all_instances:\n",
        "        start = i[0]\n",
        "        end = i[1]\n",
        "        entities.append((start, end, \"CLINICAL\"))\n",
        "          \n",
        "  # add any found entities into a JSON format within collective_dict\n",
        "  if len(entities)>0:\n",
        "    results = [text, {\"entities\": entities}]\n",
        "    annotated_list.append(results)"
      ],
      "metadata": {
        "id": "mNPleWijy-lX"
      },
      "execution_count": null,
      "outputs": []
    },
    {
      "cell_type": "code",
      "source": [
        "%%capture\n",
        "# the data is currently ordered by specialty\n",
        "# randomly shuffle the entire dataset\n",
        "shuffled = df.sample(frac=1, random_state=42)\n",
        "\n",
        "df.apply(lambda x: structure_data(x['transcription'], x['keywords']), axis=1)"
      ],
      "metadata": {
        "id": "y245IOAt2aXN"
      },
      "execution_count": null,
      "outputs": []
    },
    {
      "cell_type": "code",
      "source": [
        "# split the annotated data into 80% train, 20% test data\n",
        "train_test_split = int(len(annotated_list)*0.80)\n",
        "\n",
        "TRAIN_DATA = {\"DATA\": annotated_list[:train_test_split]}\n",
        "TEST_DATA = {\"DATA\": annotated_list[train_test_split:]}"
      ],
      "metadata": {
        "id": "flfJWtDb788a"
      },
      "execution_count": null,
      "outputs": []
    },
    {
      "cell_type": "code",
      "source": [
        "# sneak peek into the training data\n",
        "TRAIN_DATA['DATA'][0]"
      ],
      "metadata": {
        "colab": {
          "base_uri": "https://localhost:8080/"
        },
        "id": "F2y0LXiuFDHq",
        "outputId": "1ae692be-0c67-4a58-b2fd-fcc2066dc771"
      },
      "execution_count": null,
      "outputs": [
        {
          "output_type": "execute_result",
          "data": {
            "text/plain": [
              "['this 23-year-old white female presents with complaint of allergies. she used to have allergies when she lived in seattle but she thinks they are worse here. in the past, she has tried claritin, and zyrtec. both worked for short time but then seemed to lose effectiveness. she has used allegra also. she used that last summer and she began using it again two weeks ago. it does not appear to be working very well. she has used over-the-counter sprays but no prescription nasal sprays. she does have asthma but doest not require daily medication for this and does not think it is flaring up. her only medication currently is ortho tri-cyclen and the allegra. she has no known medicine allergies. vitals: weight was 130 pounds and blood pressure 124/7,heent: her throat was mildly erythematous without exudate. nasal mucosa was erythematous and swollen. only clear drainage was seen. tms were clear. neck: supple without adenopathy. lungs: clear. allergic rhinitis. plan: she will try zyrtec instead of allegra again. another option will be to use loratadine. she does not think she has prescription coverage so that might be cheaper. samples of nasonex two sprays in each nostril given for three weeks. a prescription was written as well.',\n",
              " {'entities': [(944, 961, 'CLINICAL'),\n",
              "   (57, 66, 'CLINICAL'),\n",
              "   (85, 94, 'CLINICAL'),\n",
              "   (683, 692, 'CLINICAL'),\n",
              "   (498, 504, 'CLINICAL'),\n",
              "   (470, 482, 'CLINICAL'),\n",
              "   (953, 961, 'CLINICAL'),\n",
              "   (470, 475, 'CLINICAL'),\n",
              "   (808, 813, 'CLINICAL'),\n",
              "   (778, 790, 'CLINICAL'),\n",
              "   (825, 837, 'CLINICAL'),\n",
              "   (285, 292, 'CLINICAL'),\n",
              "   (648, 655, 'CLINICAL'),\n",
              "   (1000, 1007, 'CLINICAL'),\n",
              "   (443, 449, 'CLINICAL'),\n",
              "   (476, 482, 'CLINICAL'),\n",
              "   (1155, 1161, 'CLINICAL'),\n",
              "   (944, 952, 'CLINICAL')]}]"
            ]
          },
          "metadata": {},
          "execution_count": 21
        }
      ]
    },
    {
      "cell_type": "markdown",
      "source": [
        "## Saving the Training Data"
      ],
      "metadata": {
        "id": "_mV3rVhoTjiW"
      }
    },
    {
      "cell_type": "code",
      "source": [
        "def save_data(filename, data):\n",
        "  \"\"\"\n",
        "  Option to timestamp and save JSON data to local directory.\n",
        "  \"\"\"\n",
        "  # add a timestamp to the filename\n",
        "  now = datetime.now() \n",
        "  datetime_str = now.strftime(\"%m_%d_%Y-%H.%MMT\") # using military time\n",
        "  \n",
        "  split = filename.split('.')\n",
        "  split[0] = split[0]+'--'+datetime_str+'.'\n",
        "  filename = ''.join(split)\n",
        "  \n",
        "  with open (filename, \"w\", encoding=\"utf-8\") as f:\n",
        "    json.dump(data, f, indent=4)\n",
        "\n",
        "# save_data('Training_Data', TRAIN_DATA)\n",
        "# save_data('Test_Data', TEST_DATA)"
      ],
      "metadata": {
        "id": "ILIML6Y7ThYJ"
      },
      "execution_count": null,
      "outputs": []
    },
    {
      "cell_type": "markdown",
      "source": [
        "## Preparing SpaCy Doc Objects"
      ],
      "metadata": {
        "id": "yx-6oqCITwU0"
      }
    },
    {
      "cell_type": "code",
      "source": [
        "nlp = spacy.blank(\"en\") # load a new spacy model\n",
        "doc_bin = DocBin() # create a DocBin object"
      ],
      "metadata": {
        "id": "HFZfbEWGi3OB"
      },
      "execution_count": null,
      "outputs": []
    },
    {
      "cell_type": "code",
      "source": [
        "def create_training(DATA):\n",
        "  \"\"\"\n",
        "  Convert the examples from JSON format into SpaCy Doc objects. \n",
        "  The Doc objects are then stored in a collective DocBin class.\n",
        "  \"\"\"\n",
        "  db = DocBin()\n",
        "  for text, annot in tqdm(DATA):\n",
        "    doc = nlp.make_doc(text)\n",
        "    ents = []\n",
        "\n",
        "    # create span objects\n",
        "    for start, end, label in annot[\"entities\"]:\n",
        "      span = doc.char_span(start, end, label=label, alignment_mode=\"contract\") \n",
        "\n",
        "      # skip if the character indices do not map to a valid span\n",
        "      if span is None:\n",
        "          print(\"Skipping entity.\")\n",
        "      else:\n",
        "          ents.append(span)\n",
        "\n",
        "    # remove duplicate or overlapping span objects (while keeping the first longest span)\n",
        "    filtered_ents = filter_spans(ents)\n",
        "   \n",
        "    # pack Doc objects into DocBin\n",
        "    doc.ents = filtered_ents\n",
        "    db.add(doc) \n",
        "\n",
        "  return db"
      ],
      "metadata": {
        "id": "YS5wWzNuk74S"
      },
      "execution_count": null,
      "outputs": []
    },
    {
      "cell_type": "code",
      "source": [
        "%%capture \n",
        "\n",
        "TRAIN_DATA_DOC = create_training(TRAIN_DATA['DATA'])\n",
        "TEST_DATA_DOC = create_training(TEST_DATA['DATA'])"
      ],
      "metadata": {
        "id": "jXInHhFto-zP"
      },
      "execution_count": null,
      "outputs": []
    },
    {
      "cell_type": "code",
      "source": [
        "# export results \n",
        "TRAIN_DATA_DOC.to_disk(\"./TRAIN_DATA/TRAIN_DATA.spacy\")\n",
        "TEST_DATA_DOC.to_disk(\"./TEST_DATA/TEST_DATA.spacy\")"
      ],
      "metadata": {
        "id": "zUw_1luovgcl"
      },
      "execution_count": null,
      "outputs": []
    },
    {
      "cell_type": "markdown",
      "source": [
        "## SpaCy Model Training"
      ],
      "metadata": {
        "id": "MK20DBVUlhE1"
      }
    },
    {
      "cell_type": "code",
      "source": [
        "# auto-fill the config file with any remaining default parameters \n",
        "!python -m spacy init fill-config /content/base_config.cfg config.cfg"
      ],
      "metadata": {
        "id": "KXjTpDbqU9xA",
        "colab": {
          "base_uri": "https://localhost:8080/"
        },
        "outputId": "ff3d0790-0ff5-44b6-ea0a-f6b5d63b08e0"
      },
      "execution_count": null,
      "outputs": [
        {
          "output_type": "stream",
          "name": "stdout",
          "text": [
            "\u001b[38;5;2m✔ Auto-filled config with all values\u001b[0m\n",
            "\u001b[38;5;2m✔ Saved config\u001b[0m\n",
            "config.cfg\n",
            "You can now add your data and train your pipeline:\n",
            "python -m spacy train config.cfg --paths.train ./train.spacy --paths.dev ./dev.spacy\n"
          ]
        }
      ]
    },
    {
      "cell_type": "code",
      "source": [
        "# validate the training and development data\n",
        "!python -m spacy debug data /content/config.cfg"
      ],
      "metadata": {
        "colab": {
          "base_uri": "https://localhost:8080/"
        },
        "id": "jmRntNTtT1_5",
        "outputId": "e0b56844-11a2-4f3b-da04-2371afa5a3c4"
      },
      "execution_count": null,
      "outputs": [
        {
          "output_type": "stream",
          "name": "stdout",
          "text": [
            "\u001b[1m\n",
            "============================ Data file validation ============================\u001b[0m\n",
            "Downloading: 100% 28.0/28.0 [00:00<00:00, 28.4kB/s]\n",
            "Downloading: 100% 385/385 [00:00<00:00, 370kB/s]\n",
            "Downloading: 100% 220k/220k [00:00<00:00, 312kB/s]\n",
            "Downloading: 100% 420M/420M [00:06<00:00, 70.1MB/s]\n",
            "Some weights of the model checkpoint at microsoft/BiomedNLP-PubMedBERT-base-uncased-abstract were not used when initializing BertModel: ['cls.predictions.transform.dense.weight', 'cls.predictions.transform.dense.bias', 'cls.predictions.decoder.weight', 'cls.predictions.transform.LayerNorm.weight', 'cls.seq_relationship.weight', 'cls.predictions.transform.LayerNorm.bias', 'cls.predictions.bias', 'cls.seq_relationship.bias', 'cls.predictions.decoder.bias']\n",
            "- This IS expected if you are initializing BertModel from the checkpoint of a model trained on another task or with another architecture (e.g. initializing a BertForSequenceClassification model from a BertForPreTraining model).\n",
            "- This IS NOT expected if you are initializing BertModel from the checkpoint of a model that you expect to be exactly identical (initializing a BertForSequenceClassification model from a BertForSequenceClassification model).\n",
            "\u001b[38;5;2m✔ Pipeline can be initialized with data\u001b[0m\n",
            "\u001b[38;5;2m✔ Corpus is loadable\u001b[0m\n",
            "\u001b[1m\n",
            "=============================== Training stats ===============================\u001b[0m\n",
            "Language: en\n",
            "Training pipeline: transformer, ner\n",
            "1512 training docs\n",
            "593 evaluation docs\n",
            "\u001b[38;5;3m⚠ 304 training examples also in evaluation data\u001b[0m\n",
            "\u001b[38;5;3m⚠ Low number of examples to train a new pipeline (1512)\u001b[0m\n",
            "\u001b[1m\n",
            "============================== Vocab & Vectors ==============================\u001b[0m\n",
            "\u001b[38;5;4mℹ 429087 total word(s) in the data (11640 unique)\u001b[0m\n",
            "\u001b[38;5;4mℹ No word vectors present in the package\u001b[0m\n",
            "\u001b[1m\n",
            "========================== Named Entity Recognition ==========================\u001b[0m\n",
            "\u001b[38;5;4mℹ 1 label(s)\u001b[0m\n",
            "0 missing value(s) (tokens with '-' label)\n",
            "\u001b[38;5;2m✔ Good amount of examples for all labels\u001b[0m\n",
            "\u001b[38;5;2m✔ Examples without occurrences available for all labels\u001b[0m\n",
            "\u001b[38;5;2m✔ No entities consisting of or starting/ending with whitespace\u001b[0m\n",
            "\u001b[38;5;2m✔ No entities crossing sentence boundaries\u001b[0m\n",
            "\u001b[1m\n",
            "================================== Summary ==================================\u001b[0m\n",
            "\u001b[38;5;2m✔ 6 checks passed\u001b[0m\n",
            "\u001b[38;5;3m⚠ 2 warnings\u001b[0m\n"
          ]
        }
      ]
    },
    {
      "cell_type": "code",
      "source": [
        "# train the model using GPU\n",
        "!python -m spacy train --gpu-id 0 /content/config.cfg --output ./output"
      ],
      "metadata": {
        "colab": {
          "base_uri": "https://localhost:8080/"
        },
        "id": "84MpzioCT2Df",
        "outputId": "e20b2a0f-2b80-4e6b-9d8b-75cc4d93b134"
      },
      "execution_count": null,
      "outputs": [
        {
          "output_type": "stream",
          "name": "stdout",
          "text": [
            "\u001b[38;5;2m✔ Created output directory: output\u001b[0m\n",
            "\u001b[38;5;4mℹ Saving to output directory: output\u001b[0m\n",
            "\u001b[38;5;4mℹ Using GPU: 0\u001b[0m\n",
            "\u001b[1m\n",
            "=========================== Initializing pipeline ===========================\u001b[0m\n",
            "[2022-05-08 22:17:22,454] [INFO] Set up nlp object from config\n",
            "[2022-05-08 22:17:22,463] [INFO] Pipeline: ['transformer', 'ner']\n",
            "[2022-05-08 22:17:22,467] [INFO] Created vocabulary\n",
            "[2022-05-08 22:17:22,468] [INFO] Finished initializing nlp object\n",
            "Some weights of the model checkpoint at microsoft/BiomedNLP-PubMedBERT-base-uncased-abstract were not used when initializing BertModel: ['cls.seq_relationship.weight', 'cls.seq_relationship.bias', 'cls.predictions.transform.dense.bias', 'cls.predictions.transform.LayerNorm.bias', 'cls.predictions.transform.LayerNorm.weight', 'cls.predictions.transform.dense.weight', 'cls.predictions.decoder.weight', 'cls.predictions.decoder.bias', 'cls.predictions.bias']\n",
            "- This IS expected if you are initializing BertModel from the checkpoint of a model trained on another task or with another architecture (e.g. initializing a BertForSequenceClassification model from a BertForPreTraining model).\n",
            "- This IS NOT expected if you are initializing BertModel from the checkpoint of a model that you expect to be exactly identical (initializing a BertForSequenceClassification model from a BertForSequenceClassification model).\n",
            "[2022-05-08 22:17:46,517] [INFO] Initialized pipeline components: ['transformer', 'ner']\n",
            "\u001b[38;5;2m✔ Initialized pipeline\u001b[0m\n",
            "\u001b[1m\n",
            "============================= Training pipeline =============================\u001b[0m\n",
            "\u001b[38;5;4mℹ Pipeline: ['transformer', 'ner']\u001b[0m\n",
            "\u001b[38;5;4mℹ Initial learn rate: 0.0\u001b[0m\n",
            "E    #       LOSS TRANS...  LOSS NER  ENTS_F  ENTS_P  ENTS_R  SCORE \n",
            "---  ------  -------------  --------  ------  ------  ------  ------\n",
            "  0       0         452.29    632.11    2.42    1.33   13.79    0.02\n",
            "  0     200       50081.50  52695.31   36.18   51.05   28.02    0.36\n",
            "  1     400       12274.31  20842.91   47.76   42.98   53.74    0.48\n",
            "  2     600        9439.03  16325.27   51.12   48.58   53.94    0.51\n",
            "  3     800        6514.53  11406.16   55.49   58.64   52.67    0.55\n",
            "  4    1000        4599.23   7959.94   57.16   52.35   62.94    0.57\n",
            "  5    1200        3613.54   6193.26   58.47   54.83   62.62    0.58\n",
            "  5    1400        2592.87   4414.04   56.80   49.19   67.21    0.57\n",
            "  6    1600        2155.89   3841.03   60.14   55.42   65.74    0.60\n",
            "  7    1800        1777.71   3101.29   61.50   59.17   64.03    0.62\n",
            "\u001b[38;5;2m✔ Saved pipeline to output directory\u001b[0m\n",
            "output/model-last\n"
          ]
        }
      ]
    },
    {
      "cell_type": "markdown",
      "source": [
        "## Evaluation"
      ],
      "metadata": {
        "id": "Y_yFSZCGrCGl"
      }
    },
    {
      "cell_type": "code",
      "source": [
        "!python -m spacy evaluate /content/output/model-best /content/TRAIN_DATA/TRAIN_DATA.spacy --gold-preproc --output ./eval --gpu-id 0"
      ],
      "metadata": {
        "colab": {
          "base_uri": "https://localhost:8080/"
        },
        "id": "gaQ3BgPCrEe-",
        "outputId": "085ff8a1-3472-4515-dae8-2bd416f2b9e9"
      },
      "execution_count": null,
      "outputs": [
        {
          "output_type": "stream",
          "name": "stdout",
          "text": [
            "\u001b[38;5;4mℹ Using GPU: 0\u001b[0m\n",
            "\u001b[1m\n",
            "================================== Results ==================================\u001b[0m\n",
            "\n",
            "TOK     100.00\n",
            "NER P   66.38 \n",
            "NER R   70.68 \n",
            "NER F   68.46 \n",
            "SPEED   17058 \n",
            "\n",
            "\u001b[1m\n",
            "=============================== NER (per type) ===============================\u001b[0m\n",
            "\n",
            "               P       R       F\n",
            "CLINICAL   66.38   70.68   68.46\n",
            "\n",
            "\u001b[38;5;2m✔ Saved results to eval\u001b[0m\n"
          ]
        }
      ]
    },
    {
      "cell_type": "markdown",
      "source": [
        "## Save Model"
      ],
      "metadata": {
        "id": "QvFqoGawJ4dY"
      }
    },
    {
      "cell_type": "code",
      "source": [
        "from google.colab import drive\n",
        "drive.mount('/content/drive')"
      ],
      "metadata": {
        "colab": {
          "base_uri": "https://localhost:8080/"
        },
        "id": "x6LOueCQ8vYr",
        "outputId": "6b6b58da-e113-4da6-e0c6-2aa46d3841e6"
      },
      "execution_count": null,
      "outputs": [
        {
          "output_type": "stream",
          "name": "stdout",
          "text": [
            "Mounted at /content/drive\n"
          ]
        }
      ]
    },
    {
      "cell_type": "code",
      "source": [
        "# save model outputs to Drive\n",
        "!cp -r \"/content/output\" \"/content/drive/MyDrive/BioNER_Model\""
      ],
      "metadata": {
        "id": "GaIiQTS19f30"
      },
      "execution_count": null,
      "outputs": []
    },
    {
      "cell_type": "markdown",
      "source": [
        "## Testing"
      ],
      "metadata": {
        "id": "CSey6DHnJ7qJ"
      }
    },
    {
      "cell_type": "code",
      "source": [
        "# load the trained model\n",
        "nlp_output = spacy.load(\"/content/output/model-best\")"
      ],
      "metadata": {
        "id": "i3_u0yXhSQcz"
      },
      "execution_count": null,
      "outputs": []
    },
    {
      "cell_type": "code",
      "source": [
        "# example text\n",
        "model_test = df.iloc[3,0]\n",
        "model_test"
      ],
      "metadata": {
        "id": "v4zbASfMU92p",
        "colab": {
          "base_uri": "https://localhost:8080/",
          "height": 87
        },
        "outputId": "7437cbb3-f797-4f95-810c-0ea2cdbc8fd7"
      },
      "execution_count": null,
      "outputs": [
        {
          "output_type": "execute_result",
          "data": {
            "text/plain": [
              "'2-d m-mode: , left atrial enlargement with left atrial diameter of 7 cm. normal size right and left ventricle. normal lv systolic function with left ventricular ejection fraction of 51%. normal lv diastolic function. no pericardial effusion. normal morphology of aortic valve, mitral valve, tricuspid valve, and pulmonary valve. pa systolic pressure is 36 mmhg. , mild mitral and tricuspid regurgitation. trace aortic and pulmonary regurgitation.'"
            ],
            "application/vnd.google.colaboratory.intrinsic+json": {
              "type": "string"
            }
          },
          "metadata": {},
          "execution_count": 60
        }
      ]
    },
    {
      "cell_type": "code",
      "source": [
        "# pass the test instance into the trained pipeline\n",
        "doc = nlp_output(model_test)"
      ],
      "metadata": {
        "id": "Bj1Q9nym_sXF"
      },
      "execution_count": null,
      "outputs": []
    },
    {
      "cell_type": "code",
      "source": [
        "# customize the label colors\n",
        "colors = {\"CLINICAL\": \"linear-gradient(90deg, #E1D436, #F59710)\"}\n",
        "options = {\"ents\": [\"CLINICAL\"], \"colors\": colors}"
      ],
      "metadata": {
        "id": "HsU8xsUISQhL"
      },
      "execution_count": null,
      "outputs": []
    },
    {
      "cell_type": "code",
      "source": [
        "# visualize the identified entities\n",
        "displacy.render(doc, style=\"ent\", jupyter=True, options=options)"
      ],
      "metadata": {
        "colab": {
          "base_uri": "https://localhost:8080/",
          "height": 192
        },
        "id": "kM6AQ0tNKD6k",
        "outputId": "a90f2f71-e5f1-4d67-8392-1cc793fb9be4"
      },
      "execution_count": null,
      "outputs": [
        {
          "output_type": "display_data",
          "data": {
            "text/plain": [
              "<IPython.core.display.HTML object>"
            ],
            "text/html": [
              "<span class=\"tex2jax_ignore\"><div class=\"entities\" style=\"line-height: 2.5; direction: ltr\">\n",
              "<mark class=\"entity\" style=\"background: linear-gradient(90deg, #E1D436, #F59710); padding: 0.45em 0.6em; margin: 0 0.25em; line-height: 1; border-radius: 0.35em;\">\n",
              "    2-d m-mode\n",
              "    <span style=\"font-size: 0.8em; font-weight: bold; line-height: 1; border-radius: 0.35em; vertical-align: middle; margin-left: 0.5rem\">CLINICAL</span>\n",
              "</mark>\n",
              ": , left \n",
              "<mark class=\"entity\" style=\"background: linear-gradient(90deg, #E1D436, #F59710); padding: 0.45em 0.6em; margin: 0 0.25em; line-height: 1; border-radius: 0.35em;\">\n",
              "    atrial enlargement\n",
              "    <span style=\"font-size: 0.8em; font-weight: bold; line-height: 1; border-radius: 0.35em; vertical-align: middle; margin-left: 0.5rem\">CLINICAL</span>\n",
              "</mark>\n",
              " with left atrial diameter of 7 cm. normal size right and left ventricle. \n",
              "<mark class=\"entity\" style=\"background: linear-gradient(90deg, #E1D436, #F59710); padding: 0.45em 0.6em; margin: 0 0.25em; line-height: 1; border-radius: 0.35em;\">\n",
              "    normal lv\n",
              "    <span style=\"font-size: 0.8em; font-weight: bold; line-height: 1; border-radius: 0.35em; vertical-align: middle; margin-left: 0.5rem\">CLINICAL</span>\n",
              "</mark>\n",
              " \n",
              "<mark class=\"entity\" style=\"background: linear-gradient(90deg, #E1D436, #F59710); padding: 0.45em 0.6em; margin: 0 0.25em; line-height: 1; border-radius: 0.35em;\">\n",
              "    systolic function\n",
              "    <span style=\"font-size: 0.8em; font-weight: bold; line-height: 1; border-radius: 0.35em; vertical-align: middle; margin-left: 0.5rem\">CLINICAL</span>\n",
              "</mark>\n",
              " with left ventricular \n",
              "<mark class=\"entity\" style=\"background: linear-gradient(90deg, #E1D436, #F59710); padding: 0.45em 0.6em; margin: 0 0.25em; line-height: 1; border-radius: 0.35em;\">\n",
              "    ejection fraction\n",
              "    <span style=\"font-size: 0.8em; font-weight: bold; line-height: 1; border-radius: 0.35em; vertical-align: middle; margin-left: 0.5rem\">CLINICAL</span>\n",
              "</mark>\n",
              " of 51%. \n",
              "<mark class=\"entity\" style=\"background: linear-gradient(90deg, #E1D436, #F59710); padding: 0.45em 0.6em; margin: 0 0.25em; line-height: 1; border-radius: 0.35em;\">\n",
              "    normal lv\n",
              "    <span style=\"font-size: 0.8em; font-weight: bold; line-height: 1; border-radius: 0.35em; vertical-align: middle; margin-left: 0.5rem\">CLINICAL</span>\n",
              "</mark>\n",
              " \n",
              "<mark class=\"entity\" style=\"background: linear-gradient(90deg, #E1D436, #F59710); padding: 0.45em 0.6em; margin: 0 0.25em; line-height: 1; border-radius: 0.35em;\">\n",
              "    diastolic function\n",
              "    <span style=\"font-size: 0.8em; font-weight: bold; line-height: 1; border-radius: 0.35em; vertical-align: middle; margin-left: 0.5rem\">CLINICAL</span>\n",
              "</mark>\n",
              ". no \n",
              "<mark class=\"entity\" style=\"background: linear-gradient(90deg, #E1D436, #F59710); padding: 0.45em 0.6em; margin: 0 0.25em; line-height: 1; border-radius: 0.35em;\">\n",
              "    pericardial effusion\n",
              "    <span style=\"font-size: 0.8em; font-weight: bold; line-height: 1; border-radius: 0.35em; vertical-align: middle; margin-left: 0.5rem\">CLINICAL</span>\n",
              "</mark>\n",
              ". normal morphology of \n",
              "<mark class=\"entity\" style=\"background: linear-gradient(90deg, #E1D436, #F59710); padding: 0.45em 0.6em; margin: 0 0.25em; line-height: 1; border-radius: 0.35em;\">\n",
              "    aortic valve\n",
              "    <span style=\"font-size: 0.8em; font-weight: bold; line-height: 1; border-radius: 0.35em; vertical-align: middle; margin-left: 0.5rem\">CLINICAL</span>\n",
              "</mark>\n",
              ", \n",
              "<mark class=\"entity\" style=\"background: linear-gradient(90deg, #E1D436, #F59710); padding: 0.45em 0.6em; margin: 0 0.25em; line-height: 1; border-radius: 0.35em;\">\n",
              "    mitral valve\n",
              "    <span style=\"font-size: 0.8em; font-weight: bold; line-height: 1; border-radius: 0.35em; vertical-align: middle; margin-left: 0.5rem\">CLINICAL</span>\n",
              "</mark>\n",
              ", \n",
              "<mark class=\"entity\" style=\"background: linear-gradient(90deg, #E1D436, #F59710); padding: 0.45em 0.6em; margin: 0 0.25em; line-height: 1; border-radius: 0.35em;\">\n",
              "    tricuspid valve\n",
              "    <span style=\"font-size: 0.8em; font-weight: bold; line-height: 1; border-radius: 0.35em; vertical-align: middle; margin-left: 0.5rem\">CLINICAL</span>\n",
              "</mark>\n",
              ", and \n",
              "<mark class=\"entity\" style=\"background: linear-gradient(90deg, #E1D436, #F59710); padding: 0.45em 0.6em; margin: 0 0.25em; line-height: 1; border-radius: 0.35em;\">\n",
              "    pulmonary valve\n",
              "    <span style=\"font-size: 0.8em; font-weight: bold; line-height: 1; border-radius: 0.35em; vertical-align: middle; margin-left: 0.5rem\">CLINICAL</span>\n",
              "</mark>\n",
              ". pa systolic pressure is 36 mmhg. , mild \n",
              "<mark class=\"entity\" style=\"background: linear-gradient(90deg, #E1D436, #F59710); padding: 0.45em 0.6em; margin: 0 0.25em; line-height: 1; border-radius: 0.35em;\">\n",
              "    mitral\n",
              "    <span style=\"font-size: 0.8em; font-weight: bold; line-height: 1; border-radius: 0.35em; vertical-align: middle; margin-left: 0.5rem\">CLINICAL</span>\n",
              "</mark>\n",
              " and \n",
              "<mark class=\"entity\" style=\"background: linear-gradient(90deg, #E1D436, #F59710); padding: 0.45em 0.6em; margin: 0 0.25em; line-height: 1; border-radius: 0.35em;\">\n",
              "    tricuspid\n",
              "    <span style=\"font-size: 0.8em; font-weight: bold; line-height: 1; border-radius: 0.35em; vertical-align: middle; margin-left: 0.5rem\">CLINICAL</span>\n",
              "</mark>\n",
              " \n",
              "<mark class=\"entity\" style=\"background: linear-gradient(90deg, #E1D436, #F59710); padding: 0.45em 0.6em; margin: 0 0.25em; line-height: 1; border-radius: 0.35em;\">\n",
              "    regurgitation\n",
              "    <span style=\"font-size: 0.8em; font-weight: bold; line-height: 1; border-radius: 0.35em; vertical-align: middle; margin-left: 0.5rem\">CLINICAL</span>\n",
              "</mark>\n",
              ". trace aortic and pulmonary \n",
              "<mark class=\"entity\" style=\"background: linear-gradient(90deg, #E1D436, #F59710); padding: 0.45em 0.6em; margin: 0 0.25em; line-height: 1; border-radius: 0.35em;\">\n",
              "    regurgitation\n",
              "    <span style=\"font-size: 0.8em; font-weight: bold; line-height: 1; border-radius: 0.35em; vertical-align: middle; margin-left: 0.5rem\">CLINICAL</span>\n",
              "</mark>\n",
              ".</div></span>"
            ]
          },
          "metadata": {}
        }
      ]
    },
    {
      "cell_type": "code",
      "source": [
        "# print out the identified entities\n",
        "for ent in doc.ents:\n",
        "    if ent.label_ == \"CLINICAL\":\n",
        "        print(ent.text)"
      ],
      "metadata": {
        "colab": {
          "base_uri": "https://localhost:8080/"
        },
        "id": "eCqI6tuf6u90",
        "outputId": "ed4ef908-0590-440b-9f9d-3d7400cab775"
      },
      "execution_count": null,
      "outputs": [
        {
          "output_type": "stream",
          "name": "stdout",
          "text": [
            "2-d m-mode\n",
            "atrial enlargement\n",
            "normal lv\n",
            "systolic function\n",
            "ejection fraction\n",
            "normal lv\n",
            "diastolic function\n",
            "pericardial effusion\n",
            "aortic valve\n",
            "mitral valve\n",
            "tricuspid valve\n",
            "pulmonary valve\n",
            "mitral\n",
            "tricuspid\n",
            "regurgitation\n",
            "regurgitation\n"
          ]
        }
      ]
    },
    {
      "cell_type": "code",
      "source": [],
      "metadata": {
        "id": "vXwt4PvMKOXy"
      },
      "execution_count": null,
      "outputs": []
    }
  ]
}